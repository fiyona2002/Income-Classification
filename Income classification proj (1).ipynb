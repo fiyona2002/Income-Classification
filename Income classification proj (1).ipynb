{
 "cells": [
  {
   "cell_type": "code",
   "execution_count": 1,
   "id": "db2537d3",
   "metadata": {},
   "outputs": [],
   "source": [
    "import pandas as pd\n",
    "import numpy as np\n",
    "import seaborn as sns"
   ]
  },
  {
   "cell_type": "code",
   "execution_count": 2,
   "id": "c5b988b2",
   "metadata": {},
   "outputs": [],
   "source": [
    "#To partition the data "
   ]
  },
  {
   "cell_type": "code",
   "execution_count": 3,
   "id": "d9386231",
   "metadata": {},
   "outputs": [],
   "source": [
    "from sklearn.model_selection import train_test_split"
   ]
  },
  {
   "cell_type": "code",
   "execution_count": 4,
   "id": "f42bce02",
   "metadata": {},
   "outputs": [],
   "source": [
    "#importing library for logistic regresssion"
   ]
  },
  {
   "cell_type": "code",
   "execution_count": 7,
   "id": "f055fa20",
   "metadata": {},
   "outputs": [
    {
     "name": "stdout",
     "output_type": "stream",
     "text": [
      "<class 'pandas.core.frame.DataFrame'>\n",
      "RangeIndex: 31978 entries, 0 to 31977\n",
      "Data columns (total 13 columns):\n",
      " #   Column         Non-Null Count  Dtype \n",
      "---  ------         --------------  ----- \n",
      " 0   age            31978 non-null  int64 \n",
      " 1   JobType        31978 non-null  object\n",
      " 2   EdType         31978 non-null  object\n",
      " 3   maritalstatus  31978 non-null  object\n",
      " 4   occupation     31978 non-null  object\n",
      " 5   relationship   31978 non-null  object\n",
      " 6   race           31978 non-null  object\n",
      " 7   gender         31978 non-null  object\n",
      " 8   capitalgain    31978 non-null  int64 \n",
      " 9   capitalloss    31978 non-null  int64 \n",
      " 10  hoursperweek   31978 non-null  int64 \n",
      " 11  nativecountry  31978 non-null  object\n",
      " 12  SalStat        31978 non-null  object\n",
      "dtypes: int64(4), object(9)\n",
      "memory usage: 3.2+ MB\n",
      "None\n"
     ]
    }
   ],
   "source": [
    "from sklearn.linear_model import LogisticRegression\n",
    "from sklearn.metrics import accuracy_score,confusion_matrix\n",
    "#importing data\n",
    "data_income=pd.read_csv('income.csv')\n",
    "#creating a copy of original data\n",
    "data=data_income.copy()\n",
    "# exploratory data analysis\n",
    "print(data.info())"
   ]
  },
  {
   "cell_type": "code",
   "execution_count": 8,
   "id": "7b5632f2",
   "metadata": {},
   "outputs": [
    {
     "data": {
      "text/html": [
       "<div>\n",
       "<style scoped>\n",
       "    .dataframe tbody tr th:only-of-type {\n",
       "        vertical-align: middle;\n",
       "    }\n",
       "\n",
       "    .dataframe tbody tr th {\n",
       "        vertical-align: top;\n",
       "    }\n",
       "\n",
       "    .dataframe thead th {\n",
       "        text-align: right;\n",
       "    }\n",
       "</style>\n",
       "<table border=\"1\" class=\"dataframe\">\n",
       "  <thead>\n",
       "    <tr style=\"text-align: right;\">\n",
       "      <th></th>\n",
       "      <th>age</th>\n",
       "      <th>JobType</th>\n",
       "      <th>EdType</th>\n",
       "      <th>maritalstatus</th>\n",
       "      <th>occupation</th>\n",
       "      <th>relationship</th>\n",
       "      <th>race</th>\n",
       "      <th>gender</th>\n",
       "      <th>capitalgain</th>\n",
       "      <th>capitalloss</th>\n",
       "      <th>hoursperweek</th>\n",
       "      <th>nativecountry</th>\n",
       "      <th>SalStat</th>\n",
       "    </tr>\n",
       "  </thead>\n",
       "  <tbody>\n",
       "    <tr>\n",
       "      <th>0</th>\n",
       "      <td>False</td>\n",
       "      <td>False</td>\n",
       "      <td>False</td>\n",
       "      <td>False</td>\n",
       "      <td>False</td>\n",
       "      <td>False</td>\n",
       "      <td>False</td>\n",
       "      <td>False</td>\n",
       "      <td>False</td>\n",
       "      <td>False</td>\n",
       "      <td>False</td>\n",
       "      <td>False</td>\n",
       "      <td>False</td>\n",
       "    </tr>\n",
       "    <tr>\n",
       "      <th>1</th>\n",
       "      <td>False</td>\n",
       "      <td>False</td>\n",
       "      <td>False</td>\n",
       "      <td>False</td>\n",
       "      <td>False</td>\n",
       "      <td>False</td>\n",
       "      <td>False</td>\n",
       "      <td>False</td>\n",
       "      <td>False</td>\n",
       "      <td>False</td>\n",
       "      <td>False</td>\n",
       "      <td>False</td>\n",
       "      <td>False</td>\n",
       "    </tr>\n",
       "    <tr>\n",
       "      <th>2</th>\n",
       "      <td>False</td>\n",
       "      <td>False</td>\n",
       "      <td>False</td>\n",
       "      <td>False</td>\n",
       "      <td>False</td>\n",
       "      <td>False</td>\n",
       "      <td>False</td>\n",
       "      <td>False</td>\n",
       "      <td>False</td>\n",
       "      <td>False</td>\n",
       "      <td>False</td>\n",
       "      <td>False</td>\n",
       "      <td>False</td>\n",
       "    </tr>\n",
       "    <tr>\n",
       "      <th>3</th>\n",
       "      <td>False</td>\n",
       "      <td>False</td>\n",
       "      <td>False</td>\n",
       "      <td>False</td>\n",
       "      <td>False</td>\n",
       "      <td>False</td>\n",
       "      <td>False</td>\n",
       "      <td>False</td>\n",
       "      <td>False</td>\n",
       "      <td>False</td>\n",
       "      <td>False</td>\n",
       "      <td>False</td>\n",
       "      <td>False</td>\n",
       "    </tr>\n",
       "    <tr>\n",
       "      <th>4</th>\n",
       "      <td>False</td>\n",
       "      <td>False</td>\n",
       "      <td>False</td>\n",
       "      <td>False</td>\n",
       "      <td>False</td>\n",
       "      <td>False</td>\n",
       "      <td>False</td>\n",
       "      <td>False</td>\n",
       "      <td>False</td>\n",
       "      <td>False</td>\n",
       "      <td>False</td>\n",
       "      <td>False</td>\n",
       "      <td>False</td>\n",
       "    </tr>\n",
       "    <tr>\n",
       "      <th>...</th>\n",
       "      <td>...</td>\n",
       "      <td>...</td>\n",
       "      <td>...</td>\n",
       "      <td>...</td>\n",
       "      <td>...</td>\n",
       "      <td>...</td>\n",
       "      <td>...</td>\n",
       "      <td>...</td>\n",
       "      <td>...</td>\n",
       "      <td>...</td>\n",
       "      <td>...</td>\n",
       "      <td>...</td>\n",
       "      <td>...</td>\n",
       "    </tr>\n",
       "    <tr>\n",
       "      <th>31973</th>\n",
       "      <td>False</td>\n",
       "      <td>False</td>\n",
       "      <td>False</td>\n",
       "      <td>False</td>\n",
       "      <td>False</td>\n",
       "      <td>False</td>\n",
       "      <td>False</td>\n",
       "      <td>False</td>\n",
       "      <td>False</td>\n",
       "      <td>False</td>\n",
       "      <td>False</td>\n",
       "      <td>False</td>\n",
       "      <td>False</td>\n",
       "    </tr>\n",
       "    <tr>\n",
       "      <th>31974</th>\n",
       "      <td>False</td>\n",
       "      <td>False</td>\n",
       "      <td>False</td>\n",
       "      <td>False</td>\n",
       "      <td>False</td>\n",
       "      <td>False</td>\n",
       "      <td>False</td>\n",
       "      <td>False</td>\n",
       "      <td>False</td>\n",
       "      <td>False</td>\n",
       "      <td>False</td>\n",
       "      <td>False</td>\n",
       "      <td>False</td>\n",
       "    </tr>\n",
       "    <tr>\n",
       "      <th>31975</th>\n",
       "      <td>False</td>\n",
       "      <td>False</td>\n",
       "      <td>False</td>\n",
       "      <td>False</td>\n",
       "      <td>False</td>\n",
       "      <td>False</td>\n",
       "      <td>False</td>\n",
       "      <td>False</td>\n",
       "      <td>False</td>\n",
       "      <td>False</td>\n",
       "      <td>False</td>\n",
       "      <td>False</td>\n",
       "      <td>False</td>\n",
       "    </tr>\n",
       "    <tr>\n",
       "      <th>31976</th>\n",
       "      <td>False</td>\n",
       "      <td>False</td>\n",
       "      <td>False</td>\n",
       "      <td>False</td>\n",
       "      <td>False</td>\n",
       "      <td>False</td>\n",
       "      <td>False</td>\n",
       "      <td>False</td>\n",
       "      <td>False</td>\n",
       "      <td>False</td>\n",
       "      <td>False</td>\n",
       "      <td>False</td>\n",
       "      <td>False</td>\n",
       "    </tr>\n",
       "    <tr>\n",
       "      <th>31977</th>\n",
       "      <td>False</td>\n",
       "      <td>False</td>\n",
       "      <td>False</td>\n",
       "      <td>False</td>\n",
       "      <td>False</td>\n",
       "      <td>False</td>\n",
       "      <td>False</td>\n",
       "      <td>False</td>\n",
       "      <td>False</td>\n",
       "      <td>False</td>\n",
       "      <td>False</td>\n",
       "      <td>False</td>\n",
       "      <td>False</td>\n",
       "    </tr>\n",
       "  </tbody>\n",
       "</table>\n",
       "<p>31978 rows × 13 columns</p>\n",
       "</div>"
      ],
      "text/plain": [
       "         age  JobType  EdType  maritalstatus  occupation  relationship   race  \\\n",
       "0      False    False   False          False       False         False  False   \n",
       "1      False    False   False          False       False         False  False   \n",
       "2      False    False   False          False       False         False  False   \n",
       "3      False    False   False          False       False         False  False   \n",
       "4      False    False   False          False       False         False  False   \n",
       "...      ...      ...     ...            ...         ...           ...    ...   \n",
       "31973  False    False   False          False       False         False  False   \n",
       "31974  False    False   False          False       False         False  False   \n",
       "31975  False    False   False          False       False         False  False   \n",
       "31976  False    False   False          False       False         False  False   \n",
       "31977  False    False   False          False       False         False  False   \n",
       "\n",
       "       gender  capitalgain  capitalloss  hoursperweek  nativecountry  SalStat  \n",
       "0       False        False        False         False          False    False  \n",
       "1       False        False        False         False          False    False  \n",
       "2       False        False        False         False          False    False  \n",
       "3       False        False        False         False          False    False  \n",
       "4       False        False        False         False          False    False  \n",
       "...       ...          ...          ...           ...            ...      ...  \n",
       "31973   False        False        False         False          False    False  \n",
       "31974   False        False        False         False          False    False  \n",
       "31975   False        False        False         False          False    False  \n",
       "31976   False        False        False         False          False    False  \n",
       "31977   False        False        False         False          False    False  \n",
       "\n",
       "[31978 rows x 13 columns]"
      ]
     },
     "execution_count": 8,
     "metadata": {},
     "output_type": "execute_result"
    }
   ],
   "source": [
    "data.isnull()"
   ]
  },
  {
   "cell_type": "code",
   "execution_count": 9,
   "id": "4e2ce43f",
   "metadata": {},
   "outputs": [
    {
     "name": "stdout",
     "output_type": "stream",
     "text": [
      "data cols with null values:\n",
      " <bound method NDFrame._add_numeric_operations.<locals>.sum of          age  JobType  EdType  maritalstatus  occupation  relationship   race  \\\n",
      "0      False    False   False          False       False         False  False   \n",
      "1      False    False   False          False       False         False  False   \n",
      "2      False    False   False          False       False         False  False   \n",
      "3      False    False   False          False       False         False  False   \n",
      "4      False    False   False          False       False         False  False   \n",
      "...      ...      ...     ...            ...         ...           ...    ...   \n",
      "31973  False    False   False          False       False         False  False   \n",
      "31974  False    False   False          False       False         False  False   \n",
      "31975  False    False   False          False       False         False  False   \n",
      "31976  False    False   False          False       False         False  False   \n",
      "31977  False    False   False          False       False         False  False   \n",
      "\n",
      "       gender  capitalgain  capitalloss  hoursperweek  nativecountry  SalStat  \n",
      "0       False        False        False         False          False    False  \n",
      "1       False        False        False         False          False    False  \n",
      "2       False        False        False         False          False    False  \n",
      "3       False        False        False         False          False    False  \n",
      "4       False        False        False         False          False    False  \n",
      "...       ...          ...          ...           ...            ...      ...  \n",
      "31973   False        False        False         False          False    False  \n",
      "31974   False        False        False         False          False    False  \n",
      "31975   False        False        False         False          False    False  \n",
      "31976   False        False        False         False          False    False  \n",
      "31977   False        False        False         False          False    False  \n",
      "\n",
      "[31978 rows x 13 columns]>\n"
     ]
    }
   ],
   "source": [
    "print(\"data cols with null values:\\n\",data.isnull().sum)"
   ]
  },
  {
   "cell_type": "code",
   "execution_count": 10,
   "id": "a169d8b5",
   "metadata": {},
   "outputs": [
    {
     "name": "stdout",
     "output_type": "stream",
     "text": [
      "                age   capitalgain   capitalloss  hoursperweek\n",
      "count  31978.000000  31978.000000  31978.000000  31978.000000\n",
      "mean      38.579023   1064.360623     86.739352     40.417850\n",
      "std       13.662085   7298.596271    401.594301     12.345285\n",
      "min       17.000000      0.000000      0.000000      1.000000\n",
      "25%       28.000000      0.000000      0.000000     40.000000\n",
      "50%       37.000000      0.000000      0.000000     40.000000\n",
      "75%       48.000000      0.000000      0.000000     45.000000\n",
      "max       90.000000  99999.000000   4356.000000     99.000000\n"
     ]
    }
   ],
   "source": [
    "#*******no missing values******\n",
    "#****summary of categorical variable\n",
    "summary_num=data.describe()\n",
    "print(summary_num)"
   ]
  },
  {
   "cell_type": "code",
   "execution_count": 11,
   "id": "cf8666eb",
   "metadata": {},
   "outputs": [
    {
     "data": {
      "text/plain": [
       " Prof-specialty       4038\n",
       " Craft-repair         4030\n",
       " Exec-managerial      3992\n",
       " Adm-clerical         3721\n",
       " Sales                3584\n",
       " Other-service        3212\n",
       " Machine-op-inspct    1966\n",
       " ?                    1816\n",
       " Transport-moving     1572\n",
       " Handlers-cleaners    1350\n",
       " Farming-fishing       989\n",
       " Tech-support          912\n",
       " Protective-serv       644\n",
       " Priv-house-serv       143\n",
       " Armed-Forces            9\n",
       "Name: occupation, dtype: int64"
      ]
     },
     "execution_count": 11,
     "metadata": {},
     "output_type": "execute_result"
    }
   ],
   "source": [
    "#****frequency of each categories\n",
    "data['JobType'].value_counts()\n",
    "data['occupation'].value_counts()"
   ]
  },
  {
   "cell_type": "code",
   "execution_count": 12,
   "id": "3674082e",
   "metadata": {},
   "outputs": [
    {
     "name": "stdout",
     "output_type": "stream",
     "text": [
      "[' ?' ' Federal-gov' ' Local-gov' ' Never-worked' ' Private'\n",
      " ' Self-emp-inc' ' Self-emp-not-inc' ' State-gov' ' Without-pay']\n",
      "[' ?' ' Adm-clerical' ' Armed-Forces' ' Craft-repair' ' Exec-managerial'\n",
      " ' Farming-fishing' ' Handlers-cleaners' ' Machine-op-inspct'\n",
      " ' Other-service' ' Priv-house-serv' ' Prof-specialty' ' Protective-serv'\n",
      " ' Sales' ' Tech-support' ' Transport-moving']\n"
     ]
    }
   ],
   "source": [
    "#****checking for unique classes\n",
    "print(np.unique(data['JobType']))\n",
    "print(np.unique(data['occupation']))"
   ]
  },
  {
   "cell_type": "code",
   "execution_count": 13,
   "id": "8cde216f",
   "metadata": {},
   "outputs": [],
   "source": [
    "data=pd.read_csv('income.csv',na_values=[\" ?\"])"
   ]
  },
  {
   "cell_type": "code",
   "execution_count": 14,
   "id": "1e8eda21",
   "metadata": {},
   "outputs": [
    {
     "data": {
      "text/plain": [
       "age                 0\n",
       "JobType          1809\n",
       "EdType              0\n",
       "maritalstatus       0\n",
       "occupation       1816\n",
       "relationship        0\n",
       "race                0\n",
       "gender              0\n",
       "capitalgain         0\n",
       "capitalloss         0\n",
       "hoursperweek        0\n",
       "nativecountry       0\n",
       "SalStat             0\n",
       "dtype: int64"
      ]
     },
     "execution_count": 14,
     "metadata": {},
     "output_type": "execute_result"
    }
   ],
   "source": [
    "#Data preprocessing\n",
    "\n",
    "data.isnull().sum()\n"
   ]
  },
  {
   "cell_type": "code",
   "execution_count": 15,
   "id": "a8e5b9e5",
   "metadata": {},
   "outputs": [],
   "source": [
    "missing=data[data.isnull().any(axis=1)]\n",
    "#axis=1 => to consider atleat one column value is missing"
   ]
  },
  {
   "cell_type": "code",
   "execution_count": 16,
   "id": "df1aa7b1",
   "metadata": {},
   "outputs": [
    {
     "name": "stdout",
     "output_type": "stream",
     "text": [
      "       age JobType         EdType        maritalstatus occupation  \\\n",
      "8       17     NaN           11th        Never-married        NaN   \n",
      "17      32     NaN   Some-college   Married-civ-spouse        NaN   \n",
      "29      22     NaN   Some-college        Never-married        NaN   \n",
      "42      52     NaN           12th        Never-married        NaN   \n",
      "44      63     NaN        1st-4th   Married-civ-spouse        NaN   \n",
      "...    ...     ...            ...                  ...        ...   \n",
      "31892   59     NaN      Bachelors   Married-civ-spouse        NaN   \n",
      "31934   20     NaN        HS-grad        Never-married        NaN   \n",
      "31945   28     NaN   Some-college   Married-civ-spouse        NaN   \n",
      "31967   80     NaN        HS-grad              Widowed        NaN   \n",
      "31968   17     NaN           11th        Never-married        NaN   \n",
      "\n",
      "          relationship    race   gender  capitalgain  capitalloss  \\\n",
      "8            Own-child   White   Female            0            0   \n",
      "17             Husband   White     Male            0            0   \n",
      "29           Own-child   White     Male            0            0   \n",
      "42      Other-relative   Black     Male          594            0   \n",
      "44             Husband   White     Male            0            0   \n",
      "...                ...     ...      ...          ...          ...   \n",
      "31892          Husband   White     Male            0            0   \n",
      "31934   Other-relative   White   Female            0            0   \n",
      "31945             Wife   White   Female            0         1887   \n",
      "31967    Not-in-family   White     Male            0            0   \n",
      "31968        Own-child   White     Male            0            0   \n",
      "\n",
      "       hoursperweek   nativecountry                        SalStat  \n",
      "8                 5   United-States   less than or equal to 50,000  \n",
      "17               40   United-States   less than or equal to 50,000  \n",
      "29               40   United-States   less than or equal to 50,000  \n",
      "42               40   United-States   less than or equal to 50,000  \n",
      "44               35   United-States   less than or equal to 50,000  \n",
      "...             ...             ...                            ...  \n",
      "31892            40   United-States            greater than 50,000  \n",
      "31934            35   United-States   less than or equal to 50,000  \n",
      "31945            40   United-States            greater than 50,000  \n",
      "31967            24   United-States   less than or equal to 50,000  \n",
      "31968            40   United-States   less than or equal to 50,000  \n",
      "\n",
      "[1816 rows x 13 columns]\n"
     ]
    }
   ],
   "source": [
    "print(missing)"
   ]
  },
  {
   "cell_type": "code",
   "execution_count": 17,
   "id": "97fda6bf",
   "metadata": {},
   "outputs": [
    {
     "data": {
      "text/plain": [
       "'points to note\\n1. Missing values i job type =1890\\n2. Missing vaues in occupation =1816\\n3. There are 1809 rows where two specific cols i.e occcupation & jobtype\\nhave missing values\\n4. (1816-1809) => You still have occupation unfilled for\\nthese 7 rows.Because, jobtype is never worked'"
      ]
     },
     "execution_count": 17,
     "metadata": {},
     "output_type": "execute_result"
    }
   ],
   "source": [
    "\"\"\"points to note\n",
    "1. Missing values i job type =1890\n",
    "2. Missing vaues in occupation =1816\n",
    "3. There are 1809 rows where two specific cols i.e occcupation & jobtype\n",
    "have missing values\n",
    "4. (1816-1809) => You still have occupation unfilled for\n",
    "these 7 rows.Because, jobtype is never worked\"\"\""
   ]
  },
  {
   "cell_type": "code",
   "execution_count": 18,
   "id": "51cfffd9",
   "metadata": {},
   "outputs": [
    {
     "name": "stdout",
     "output_type": "stream",
     "text": [
      "       age       JobType         EdType        maritalstatus  \\\n",
      "0       45       Private        HS-grad             Divorced   \n",
      "1       24   Federal-gov        HS-grad        Never-married   \n",
      "2       44       Private   Some-college   Married-civ-spouse   \n",
      "3       27       Private            9th        Never-married   \n",
      "4       20       Private   Some-college        Never-married   \n",
      "...    ...           ...            ...                  ...   \n",
      "31973   34     Local-gov        HS-grad        Never-married   \n",
      "31974   34     Local-gov   Some-college        Never-married   \n",
      "31975   23       Private   Some-college   Married-civ-spouse   \n",
      "31976   42     Local-gov   Some-college   Married-civ-spouse   \n",
      "31977   29       Private      Bachelors        Never-married   \n",
      "\n",
      "             occupation     relationship    race   gender  capitalgain  \\\n",
      "0          Adm-clerical    Not-in-family   White   Female            0   \n",
      "1          Armed-Forces        Own-child   White     Male            0   \n",
      "2        Prof-specialty          Husband   White     Male            0   \n",
      "3          Craft-repair   Other-relative   White     Male            0   \n",
      "4                 Sales    Not-in-family   White     Male            0   \n",
      "...                 ...              ...     ...      ...          ...   \n",
      "31973   Farming-fishing    Not-in-family   Black     Male          594   \n",
      "31974   Protective-serv    Not-in-family   White   Female            0   \n",
      "31975      Adm-clerical          Husband   White     Male            0   \n",
      "31976      Adm-clerical             Wife   White   Female            0   \n",
      "31977    Prof-specialty    Not-in-family   White     Male            0   \n",
      "\n",
      "       capitalloss  hoursperweek   nativecountry  \\\n",
      "0                0            28   United-States   \n",
      "1                0            40   United-States   \n",
      "2                0            40   United-States   \n",
      "3                0            40          Mexico   \n",
      "4                0            35   United-States   \n",
      "...            ...           ...             ...   \n",
      "31973            0            60   United-States   \n",
      "31974            0            40   United-States   \n",
      "31975            0            40   United-States   \n",
      "31976            0            40   United-States   \n",
      "31977            0            40   United-States   \n",
      "\n",
      "                             SalStat  \n",
      "0       less than or equal to 50,000  \n",
      "1       less than or equal to 50,000  \n",
      "2                greater than 50,000  \n",
      "3       less than or equal to 50,000  \n",
      "4       less than or equal to 50,000  \n",
      "...                              ...  \n",
      "31973   less than or equal to 50,000  \n",
      "31974   less than or equal to 50,000  \n",
      "31975   less than or equal to 50,000  \n",
      "31976   less than or equal to 50,000  \n",
      "31977   less than or equal to 50,000  \n",
      "\n",
      "[30162 rows x 13 columns]\n"
     ]
    }
   ],
   "source": [
    "data2=data.dropna(axis=0)\n",
    "print(data2)"
   ]
  },
  {
   "cell_type": "code",
   "execution_count": 19,
   "id": "40fe96b7",
   "metadata": {},
   "outputs": [
    {
     "name": "stdout",
     "output_type": "stream",
     "text": [
      "                   age  capitalgain  capitalloss  hoursperweek\n",
      "age           1.000000     0.080154     0.060165      0.101599\n",
      "capitalgain   0.080154     1.000000    -0.032229      0.080432\n",
      "capitalloss   0.060165    -0.032229     1.000000      0.052417\n",
      "hoursperweek  0.101599     0.080432     0.052417      1.000000\n"
     ]
    }
   ],
   "source": [
    "#Relationship between independent variables\n",
    "\n",
    "correlation=data2.corr()\n",
    "print(correlation)"
   ]
  },
  {
   "cell_type": "code",
   "execution_count": 20,
   "id": "47a2be98",
   "metadata": {},
   "outputs": [
    {
     "data": {
      "text/plain": [
       "Index(['age', 'JobType', 'EdType', 'maritalstatus', 'occupation',\n",
       "       'relationship', 'race', 'gender', 'capitalgain', 'capitalloss',\n",
       "       'hoursperweek', 'nativecountry', 'SalStat'],\n",
       "      dtype='object')"
      ]
     },
     "execution_count": 20,
     "metadata": {},
     "output_type": "execute_result"
    }
   ],
   "source": [
    "#Cross tables and data visualization\n",
    "\n",
    "data2.columns"
   ]
  },
  {
   "cell_type": "code",
   "execution_count": 21,
   "id": "62b011db",
   "metadata": {},
   "outputs": [],
   "source": [
    "#Gender proportion table\n",
    "gender=pd.crosstab(index=data2[\"gender\"],columns='count',normalize=True)\n"
   ]
  },
  {
   "cell_type": "code",
   "execution_count": 22,
   "id": "a6f497e0",
   "metadata": {},
   "outputs": [
    {
     "name": "stdout",
     "output_type": "stream",
     "text": [
      "col_0       count\n",
      "gender           \n",
      " Female  0.324315\n",
      " Male    0.675685\n"
     ]
    }
   ],
   "source": [
    "print(gender)"
   ]
  },
  {
   "cell_type": "code",
   "execution_count": 23,
   "id": "96fa5f0b",
   "metadata": {},
   "outputs": [
    {
     "name": "stdout",
     "output_type": "stream",
     "text": [
      "SalStat   greater than 50,000   less than or equal to 50,000\n",
      "gender                                                      \n",
      " Female              0.113678                       0.886322\n",
      " Male                0.313837                       0.686163\n",
      "All                  0.248922                       0.751078\n"
     ]
    }
   ],
   "source": [
    "#Gender vs salary status:\n",
    "gender_salsat=pd.crosstab(index=data2[\"gender\"],\n",
    "                         columns=data2['SalStat'],\n",
    "                         margins=True,\n",
    "                         normalize='index')\n",
    "print(gender_salsat)"
   ]
  },
  {
   "cell_type": "code",
   "execution_count": 24,
   "id": "03b37c59",
   "metadata": {},
   "outputs": [
    {
     "name": "stderr",
     "output_type": "stream",
     "text": [
      "C:\\Users\\User\\anaconda3\\lib\\site-packages\\seaborn\\_decorators.py:36: FutureWarning: Pass the following variable as a keyword arg: x. From version 0.12, the only valid positional argument will be `data`, and passing other arguments without an explicit keyword will result in an error or misinterpretation.\n",
      "  warnings.warn(\n"
     ]
    },
    {
     "data": {
      "image/png": "[encoded data removed]",
      "text/plain": [
       "<Figure size 640x480 with 1 Axes>"
      ]
     },
     "metadata": {},
     "output_type": "display_data"
    }
   ],
   "source": [
    "#Frequency distribution of salary status\n",
    "\n",
    "SalStat=sns.countplot(data2['SalStat'])"
   ]
  },
  {
   "cell_type": "code",
   "execution_count": 25,
   "id": "7d19b89d",
   "metadata": {},
   "outputs": [
    {
     "data": {
      "text/plain": [
       "\"75% of people's salary status is <=50,000\\n& 25% of people's salary is >50,000\""
      ]
     },
     "execution_count": 25,
     "metadata": {},
     "output_type": "execute_result"
    }
   ],
   "source": [
    "\"\"\"75% of people's salary status is <=50,000\n",
    "& 25% of people's salary is >50,000\"\"\""
   ]
  },
  {
   "cell_type": "code",
   "execution_count": 26,
   "id": "a1e4a696",
   "metadata": {},
   "outputs": [
    {
     "data": {
      "text/plain": [
       "<seaborn.axisgrid.FacetGrid at 0x1dcde1d74f0>"
      ]
     },
     "execution_count": 26,
     "metadata": {},
     "output_type": "execute_result"
    },
    {
     "data": {
      "image/png": "[encoded data removed]",
      "text/plain": [
       "<Figure size 500x500 with 1 Axes>"
      ]
     },
     "metadata": {},
     "output_type": "display_data"
    }
   ],
   "source": [
    "#*******histogram of age*******\n",
    "\n",
    "sns.displot(data2['age'],bins=10,kde=False)"
   ]
  },
  {
   "cell_type": "code",
   "execution_count": 27,
   "id": "2a8b61e5",
   "metadata": {},
   "outputs": [],
   "source": [
    "#people with age 25 -45 age are high in frequency"
   ]
  },
  {
   "cell_type": "code",
   "execution_count": 28,
   "id": "31c77485",
   "metadata": {},
   "outputs": [
    {
     "name": "stderr",
     "output_type": "stream",
     "text": [
      "C:\\Users\\User\\anaconda3\\lib\\site-packages\\seaborn\\_decorators.py:36: FutureWarning: Pass the following variables as keyword args: x, y. From version 0.12, the only valid positional argument will be `data`, and passing other arguments without an explicit keyword will result in an error or misinterpretation.\n",
      "  warnings.warn(\n"
     ]
    },
    {
     "data": {
      "text/plain": [
       "<AxesSubplot:xlabel='SalStat', ylabel='age'>"
      ]
     },
     "execution_count": 28,
     "metadata": {},
     "output_type": "execute_result"
    },
    {
     "data": {
      "image/png": "[encoded data removed]",
      "text/plain": [
       "<Figure size 640x480 with 1 Axes>"
      ]
     },
     "metadata": {},
     "output_type": "display_data"
    }
   ],
   "source": [
    "#*****box plot age vs salary status****\n",
    "sns.boxplot('SalStat','age',data=data2)"
   ]
  },
  {
   "cell_type": "code",
   "execution_count": 30,
   "id": "f02ac3a5",
   "metadata": {},
   "outputs": [
    {
     "data": {
      "text/plain": [
       "SalStat\n",
       " greater than 50,000             43.0\n",
       " less than or equal to 50,000    34.0\n",
       "Name: age, dtype: float64"
      ]
     },
     "execution_count": 30,
     "metadata": {},
     "output_type": "execute_result"
    }
   ],
   "source": [
    "data2.groupby('SalStat')['age'].median()"
   ]
  },
  {
   "cell_type": "code",
   "execution_count": 31,
   "id": "98c1a8da",
   "metadata": {},
   "outputs": [
    {
     "name": "stdout",
     "output_type": "stream",
     "text": [
      "       age       JobType         EdType        maritalstatus  \\\n",
      "0       45       Private        HS-grad             Divorced   \n",
      "1       24   Federal-gov        HS-grad        Never-married   \n",
      "2       44       Private   Some-college   Married-civ-spouse   \n",
      "3       27       Private            9th        Never-married   \n",
      "4       20       Private   Some-college        Never-married   \n",
      "...    ...           ...            ...                  ...   \n",
      "31973   34     Local-gov        HS-grad        Never-married   \n",
      "31974   34     Local-gov   Some-college        Never-married   \n",
      "31975   23       Private   Some-college   Married-civ-spouse   \n",
      "31976   42     Local-gov   Some-college   Married-civ-spouse   \n",
      "31977   29       Private      Bachelors        Never-married   \n",
      "\n",
      "             occupation     relationship    race   gender  capitalgain  \\\n",
      "0          Adm-clerical    Not-in-family   White   Female            0   \n",
      "1          Armed-Forces        Own-child   White     Male            0   \n",
      "2        Prof-specialty          Husband   White     Male            0   \n",
      "3          Craft-repair   Other-relative   White     Male            0   \n",
      "4                 Sales    Not-in-family   White     Male            0   \n",
      "...                 ...              ...     ...      ...          ...   \n",
      "31973   Farming-fishing    Not-in-family   Black     Male          594   \n",
      "31974   Protective-serv    Not-in-family   White   Female            0   \n",
      "31975      Adm-clerical          Husband   White     Male            0   \n",
      "31976      Adm-clerical             Wife   White   Female            0   \n",
      "31977    Prof-specialty    Not-in-family   White     Male            0   \n",
      "\n",
      "       capitalloss  hoursperweek   nativecountry  \\\n",
      "0                0            28   United-States   \n",
      "1                0            40   United-States   \n",
      "2                0            40   United-States   \n",
      "3                0            40          Mexico   \n",
      "4                0            35   United-States   \n",
      "...            ...           ...             ...   \n",
      "31973            0            60   United-States   \n",
      "31974            0            40   United-States   \n",
      "31975            0            40   United-States   \n",
      "31976            0            40   United-States   \n",
      "31977            0            40   United-States   \n",
      "\n",
      "                             SalStat  \n",
      "0       less than or equal to 50,000  \n",
      "1       less than or equal to 50,000  \n",
      "2                greater than 50,000  \n",
      "3       less than or equal to 50,000  \n",
      "4       less than or equal to 50,000  \n",
      "...                              ...  \n",
      "31973   less than or equal to 50,000  \n",
      "31974   less than or equal to 50,000  \n",
      "31975   less than or equal to 50,000  \n",
      "31976   less than or equal to 50,000  \n",
      "31977   less than or equal to 50,000  \n",
      "\n",
      "[31978 rows x 13 columns]\n"
     ]
    }
   ],
   "source": [
    "#people with 35-50 age are more likely to earn > 50000\n",
    "#people with 25-35 age are more likely to earn <=50000\n",
    "data3=data.copy()\n",
    "print(data3)"
   ]
  },
  {
   "cell_type": "code",
   "execution_count": 32,
   "id": "879a760e",
   "metadata": {},
   "outputs": [
    {
     "name": "stdout",
     "output_type": "stream",
     "text": [
      "0        0\n",
      "1        0\n",
      "2        1\n",
      "3        0\n",
      "4        0\n",
      "        ..\n",
      "31973    0\n",
      "31974    0\n",
      "31975    0\n",
      "31976    0\n",
      "31977    0\n",
      "Name: SalStat, Length: 31978, dtype: int64\n"
     ]
    }
   ],
   "source": [
    "#Logistic Regresssion\n",
    "\n",
    "#reindexing the salary status names to 0,1\n",
    "data3['SalStat']=data3['SalStat'].map({' less than or equal to 50,000':0,' greater than 50,000':1})\n",
    "print(data3['SalStat'])"
   ]
  },
  {
   "cell_type": "code",
   "execution_count": 33,
   "id": "aef58434",
   "metadata": {},
   "outputs": [
    {
     "name": "stdout",
     "output_type": "stream",
     "text": [
      "       age  capitalgain  capitalloss  hoursperweek  SalStat  \\\n",
      "0       45            0            0            28        0   \n",
      "1       24            0            0            40        0   \n",
      "2       44            0            0            40        1   \n",
      "3       27            0            0            40        0   \n",
      "4       20            0            0            35        0   \n",
      "...    ...          ...          ...           ...      ...   \n",
      "31973   34          594            0            60        0   \n",
      "31974   34            0            0            40        0   \n",
      "31975   23            0            0            40        0   \n",
      "31976   42            0            0            40        0   \n",
      "31977   29            0            0            40        0   \n",
      "\n",
      "       JobType_ Local-gov  JobType_ Never-worked  JobType_ Private  \\\n",
      "0                       0                      0                 1   \n",
      "1                       0                      0                 0   \n",
      "2                       0                      0                 1   \n",
      "3                       0                      0                 1   \n",
      "4                       0                      0                 1   \n",
      "...                   ...                    ...               ...   \n",
      "31973                   1                      0                 0   \n",
      "31974                   1                      0                 0   \n",
      "31975                   0                      0                 1   \n",
      "31976                   1                      0                 0   \n",
      "31977                   0                      0                 1   \n",
      "\n",
      "       JobType_ Self-emp-inc  JobType_ Self-emp-not-inc  ...  \\\n",
      "0                          0                          0  ...   \n",
      "1                          0                          0  ...   \n",
      "2                          0                          0  ...   \n",
      "3                          0                          0  ...   \n",
      "4                          0                          0  ...   \n",
      "...                      ...                        ...  ...   \n",
      "31973                      0                          0  ...   \n",
      "31974                      0                          0  ...   \n",
      "31975                      0                          0  ...   \n",
      "31976                      0                          0  ...   \n",
      "31977                      0                          0  ...   \n",
      "\n",
      "       nativecountry_ Portugal  nativecountry_ Puerto-Rico  \\\n",
      "0                            0                           0   \n",
      "1                            0                           0   \n",
      "2                            0                           0   \n",
      "3                            0                           0   \n",
      "4                            0                           0   \n",
      "...                        ...                         ...   \n",
      "31973                        0                           0   \n",
      "31974                        0                           0   \n",
      "31975                        0                           0   \n",
      "31976                        0                           0   \n",
      "31977                        0                           0   \n",
      "\n",
      "       nativecountry_ Scotland  nativecountry_ South  nativecountry_ Taiwan  \\\n",
      "0                            0                     0                      0   \n",
      "1                            0                     0                      0   \n",
      "2                            0                     0                      0   \n",
      "3                            0                     0                      0   \n",
      "4                            0                     0                      0   \n",
      "...                        ...                   ...                    ...   \n",
      "31973                        0                     0                      0   \n",
      "31974                        0                     0                      0   \n",
      "31975                        0                     0                      0   \n",
      "31976                        0                     0                      0   \n",
      "31977                        0                     0                      0   \n",
      "\n",
      "       nativecountry_ Thailand  nativecountry_ Trinadad&Tobago  \\\n",
      "0                            0                               0   \n",
      "1                            0                               0   \n",
      "2                            0                               0   \n",
      "3                            0                               0   \n",
      "4                            0                               0   \n",
      "...                        ...                             ...   \n",
      "31973                        0                               0   \n",
      "31974                        0                               0   \n",
      "31975                        0                               0   \n",
      "31976                        0                               0   \n",
      "31977                        0                               0   \n",
      "\n",
      "       nativecountry_ United-States  nativecountry_ Vietnam  \\\n",
      "0                                 1                       0   \n",
      "1                                 1                       0   \n",
      "2                                 1                       0   \n",
      "3                                 0                       0   \n",
      "4                                 1                       0   \n",
      "...                             ...                     ...   \n",
      "31973                             1                       0   \n",
      "31974                             1                       0   \n",
      "31975                             1                       0   \n",
      "31976                             1                       0   \n",
      "31977                             1                       0   \n",
      "\n",
      "       nativecountry_ Yugoslavia  \n",
      "0                              0  \n",
      "1                              0  \n",
      "2                              0  \n",
      "3                              0  \n",
      "4                              0  \n",
      "...                          ...  \n",
      "31973                          0  \n",
      "31974                          0  \n",
      "31975                          0  \n",
      "31976                          0  \n",
      "31977                          0  \n",
      "\n",
      "[31978 rows x 96 columns]\n"
     ]
    }
   ],
   "source": [
    "new_data=pd.get_dummies(data3, drop_first=True)\n",
    "print(new_data)"
   ]
  },
  {
   "cell_type": "code",
   "execution_count": 34,
   "id": "fe6e6c7c",
   "metadata": {},
   "outputs": [
    {
     "name": "stdout",
     "output_type": "stream",
     "text": [
      "['age', 'capitalgain', 'capitalloss', 'hoursperweek', 'SalStat', 'JobType_ Local-gov', 'JobType_ Never-worked', 'JobType_ Private', 'JobType_ Self-emp-inc', 'JobType_ Self-emp-not-inc', 'JobType_ State-gov', 'JobType_ Without-pay', 'EdType_ 11th', 'EdType_ 12th', 'EdType_ 1st-4th', 'EdType_ 5th-6th', 'EdType_ 7th-8th', 'EdType_ 9th', 'EdType_ Assoc-acdm', 'EdType_ Assoc-voc', 'EdType_ Bachelors', 'EdType_ Doctorate', 'EdType_ HS-grad', 'EdType_ Masters', 'EdType_ Preschool', 'EdType_ Prof-school', 'EdType_ Some-college', 'maritalstatus_ Married-AF-spouse', 'maritalstatus_ Married-civ-spouse', 'maritalstatus_ Married-spouse-absent', 'maritalstatus_ Never-married', 'maritalstatus_ Separated', 'maritalstatus_ Widowed', 'occupation_ Armed-Forces', 'occupation_ Craft-repair', 'occupation_ Exec-managerial', 'occupation_ Farming-fishing', 'occupation_ Handlers-cleaners', 'occupation_ Machine-op-inspct', 'occupation_ Other-service', 'occupation_ Priv-house-serv', 'occupation_ Prof-specialty', 'occupation_ Protective-serv', 'occupation_ Sales', 'occupation_ Tech-support', 'occupation_ Transport-moving', 'relationship_ Not-in-family', 'relationship_ Other-relative', 'relationship_ Own-child', 'relationship_ Unmarried', 'relationship_ Wife', 'race_ Asian-Pac-Islander', 'race_ Black', 'race_ Other', 'race_ White', 'gender_ Male', 'nativecountry_ Canada', 'nativecountry_ China', 'nativecountry_ Columbia', 'nativecountry_ Cuba', 'nativecountry_ Dominican-Republic', 'nativecountry_ Ecuador', 'nativecountry_ El-Salvador', 'nativecountry_ England', 'nativecountry_ France', 'nativecountry_ Germany', 'nativecountry_ Greece', 'nativecountry_ Guatemala', 'nativecountry_ Haiti', 'nativecountry_ Holand-Netherlands', 'nativecountry_ Honduras', 'nativecountry_ Hong', 'nativecountry_ Hungary', 'nativecountry_ India', 'nativecountry_ Iran', 'nativecountry_ Ireland', 'nativecountry_ Italy', 'nativecountry_ Jamaica', 'nativecountry_ Japan', 'nativecountry_ Laos', 'nativecountry_ Mexico', 'nativecountry_ Nicaragua', 'nativecountry_ Outlying-US(Guam-USVI-etc)', 'nativecountry_ Peru', 'nativecountry_ Philippines', 'nativecountry_ Poland', 'nativecountry_ Portugal', 'nativecountry_ Puerto-Rico', 'nativecountry_ Scotland', 'nativecountry_ South', 'nativecountry_ Taiwan', 'nativecountry_ Thailand', 'nativecountry_ Trinadad&Tobago', 'nativecountry_ United-States', 'nativecountry_ Vietnam', 'nativecountry_ Yugoslavia']\n"
     ]
    }
   ],
   "source": [
    "#storing the column names\n",
    "columns_list=list(new_data.columns)\n",
    "print(columns_list)"
   ]
  },
  {
   "cell_type": "code",
   "execution_count": 35,
   "id": "be59d534",
   "metadata": {},
   "outputs": [
    {
     "name": "stdout",
     "output_type": "stream",
     "text": [
      "['nativecountry_ Jamaica', 'relationship_ Other-relative', 'nativecountry_ Mexico', 'nativecountry_ Laos', 'nativecountry_ China', 'JobType_ Local-gov', 'nativecountry_ Dominican-Republic', 'JobType_ Without-pay', 'EdType_ 12th', 'occupation_ Priv-house-serv', 'nativecountry_ Portugal', 'EdType_ Bachelors', 'JobType_ Self-emp-inc', 'nativecountry_ Yugoslavia', 'nativecountry_ Ecuador', 'occupation_ Farming-fishing', 'nativecountry_ Germany', 'EdType_ 11th', 'EdType_ Doctorate', 'nativecountry_ Japan', 'maritalstatus_ Never-married', 'nativecountry_ Hong', 'capitalloss', 'age', 'nativecountry_ Hungary', 'nativecountry_ Columbia', 'occupation_ Sales', 'nativecountry_ France', 'nativecountry_ South', 'relationship_ Wife', 'nativecountry_ Greece', 'occupation_ Other-service', 'nativecountry_ Poland', 'race_ Asian-Pac-Islander', 'nativecountry_ Philippines', 'JobType_ Private', 'occupation_ Transport-moving', 'occupation_ Exec-managerial', 'occupation_ Protective-serv', 'nativecountry_ Guatemala', 'occupation_ Machine-op-inspct', 'nativecountry_ Vietnam', 'relationship_ Not-in-family', 'occupation_ Craft-repair', 'nativecountry_ Trinadad&Tobago', 'nativecountry_ Holand-Netherlands', 'JobType_ Self-emp-not-inc', 'nativecountry_ United-States', 'EdType_ 7th-8th', 'JobType_ Never-worked', 'nativecountry_ Iran', 'nativecountry_ Cuba', 'relationship_ Own-child', 'nativecountry_ Canada', 'nativecountry_ Nicaragua', 'nativecountry_ India', 'gender_ Male', 'race_ Black', 'nativecountry_ El-Salvador', 'hoursperweek', 'nativecountry_ Puerto-Rico', 'capitalgain', 'race_ Other', 'EdType_ Prof-school', 'maritalstatus_ Married-AF-spouse', 'maritalstatus_ Married-civ-spouse', 'nativecountry_ Peru', 'occupation_ Tech-support', 'occupation_ Prof-specialty', 'EdType_ Masters', 'EdType_ Preschool', 'EdType_ HS-grad', 'nativecountry_ Thailand', 'relationship_ Unmarried', 'nativecountry_ Italy', 'nativecountry_ Scotland', 'nativecountry_ Haiti', 'nativecountry_ Honduras', 'EdType_ 1st-4th', 'EdType_ Some-college', 'race_ White', 'nativecountry_ Taiwan', 'JobType_ State-gov', 'EdType_ Assoc-voc', 'EdType_ Assoc-acdm', 'occupation_ Handlers-cleaners', 'maritalstatus_ Separated', 'maritalstatus_ Married-spouse-absent', 'maritalstatus_ Widowed', 'occupation_ Armed-Forces', 'nativecountry_ Outlying-US(Guam-USVI-etc)', 'nativecountry_ Ireland', 'EdType_ 5th-6th', 'nativecountry_ England', 'EdType_ 9th']\n"
     ]
    }
   ],
   "source": [
    "#Separating the input namess from data\n",
    "\n",
    "features=list(set(columns_list)-set(['SalStat']))\n",
    "print(features)"
   ]
  },
  {
   "cell_type": "code",
   "execution_count": 36,
   "id": "387eae3f",
   "metadata": {},
   "outputs": [
    {
     "name": "stdout",
     "output_type": "stream",
     "text": [
      "[0 0 1 ... 0 0 0]\n"
     ]
    }
   ],
   "source": [
    "#storing outtput vaues in y\n",
    "y=new_data['SalStat'].values\n",
    "print(y)"
   ]
  },
  {
   "cell_type": "code",
   "execution_count": 37,
   "id": "2a737f0a",
   "metadata": {},
   "outputs": [
    {
     "name": "stdout",
     "output_type": "stream",
     "text": [
      "[[0 0 0 ... 0 0 0]\n",
      " [0 0 0 ... 0 0 0]\n",
      " [0 0 0 ... 0 0 0]\n",
      " ...\n",
      " [0 0 0 ... 0 0 0]\n",
      " [0 0 0 ... 0 0 0]\n",
      " [0 0 0 ... 0 0 0]]\n"
     ]
    }
   ],
   "source": [
    "#storing the values from input feature\n",
    "x=new_data[features].values\n",
    "print(x)"
   ]
  },
  {
   "cell_type": "code",
   "execution_count": 38,
   "id": "c90f30d8",
   "metadata": {},
   "outputs": [
    {
     "data": {
      "text/plain": [
       "age                 0\n",
       "JobType          1809\n",
       "EdType              0\n",
       "maritalstatus       0\n",
       "occupation       1816\n",
       "relationship        0\n",
       "race                0\n",
       "gender              0\n",
       "capitalgain         0\n",
       "capitalloss         0\n",
       "hoursperweek        0\n",
       "nativecountry       0\n",
       "SalStat             0\n",
       "dtype: int64"
      ]
     },
     "execution_count": 38,
     "metadata": {},
     "output_type": "execute_result"
    }
   ],
   "source": [
    "data3.isnull().sum()"
   ]
  },
  {
   "cell_type": "code",
   "execution_count": 39,
   "id": "07df7b29",
   "metadata": {},
   "outputs": [],
   "source": [
    "data3.dropna(axis=0,inplace=True)"
   ]
  },
  {
   "cell_type": "code",
   "execution_count": 40,
   "id": "14af94e3",
   "metadata": {},
   "outputs": [],
   "source": [
    "data3.dropna(axis=0,inplace=True)"
   ]
  },
  {
   "cell_type": "code",
   "execution_count": 41,
   "id": "f12354e6",
   "metadata": {},
   "outputs": [
    {
     "data": {
      "text/plain": [
       "age              0\n",
       "JobType          0\n",
       "EdType           0\n",
       "maritalstatus    0\n",
       "occupation       0\n",
       "relationship     0\n",
       "race             0\n",
       "gender           0\n",
       "capitalgain      0\n",
       "capitalloss      0\n",
       "hoursperweek     0\n",
       "nativecountry    0\n",
       "SalStat          0\n",
       "dtype: int64"
      ]
     },
     "execution_count": 41,
     "metadata": {},
     "output_type": "execute_result"
    }
   ],
   "source": [
    "data3.isnull().sum()"
   ]
  },
  {
   "cell_type": "code",
   "execution_count": 42,
   "id": "55c3094d",
   "metadata": {},
   "outputs": [],
   "source": [
    "#splitting the data into train and test\n",
    "train_x,test_x,train_y,test_y=train_test_split(x,y,test_size=0.3,random_state=0)"
   ]
  },
  {
   "cell_type": "code",
   "execution_count": 43,
   "id": "1a1c46bd",
   "metadata": {},
   "outputs": [],
   "source": [
    "#make instance of model\n",
    "logistic=LogisticRegression()"
   ]
  },
  {
   "cell_type": "code",
   "execution_count": 44,
   "id": "d43386e6",
   "metadata": {},
   "outputs": [
    {
     "name": "stderr",
     "output_type": "stream",
     "text": [
      "C:\\Users\\User\\anaconda3\\lib\\site-packages\\sklearn\\linear_model\\_logistic.py:814: ConvergenceWarning: lbfgs failed to converge (status=1):\n",
      "STOP: TOTAL NO. of ITERATIONS REACHED LIMIT.\n",
      "\n",
      "Increase the number of iterations (max_iter) or scale the data as shown in:\n",
      "    https://scikit-learn.org/stable/modules/preprocessing.html\n",
      "Please also refer to the documentation for alternative solver options:\n",
      "    https://scikit-learn.org/stable/modules/linear_model.html#logistic-regression\n",
      "  n_iter_i = _check_optimize_result(\n"
     ]
    },
    {
     "data": {
      "text/plain": [
       "array([[-2.36691876e-02, -2.62083205e-01, -2.90858165e-01,\n",
       "        -8.87888784e-03, -2.42200217e-02, -1.56102462e-01,\n",
       "        -2.62376660e-02, -7.11343554e-03, -1.11922336e-01,\n",
       "        -3.82641707e-02, -2.00670277e-02,  6.83720345e-01,\n",
       "         1.82984777e-01,  1.33430535e-03, -6.65793763e-03,\n",
       "        -3.34368535e-01,  9.54646189e-03, -3.43121516e-01,\n",
       "         2.40797923e-01,  7.49539812e-05, -1.39369391e+00,\n",
       "        -4.96392472e-03,  6.72718582e-04, -3.98724554e-03,\n",
       "         1.40216658e-05, -2.19464454e-02,  1.91188120e-01,\n",
       "         1.07646114e-02, -3.54593370e-02,  2.66788581e-01,\n",
       "        -1.33805742e-02, -6.79703899e-01, -1.67304452e-02,\n",
       "        -1.60947078e-01, -2.44941812e-02, -1.91876720e-01,\n",
       "        -1.69228147e-01,  9.06786553e-01,  4.87162623e-03,\n",
       "        -1.92719427e-02, -3.31235879e-01, -3.08294011e-02,\n",
       "        -4.34432068e-01, -2.99285734e-01, -7.37438926e-03,\n",
       "        -8.88835725e-04, -4.27495721e-01, -3.83156440e-01,\n",
       "        -2.99959597e-01, -2.81190867e-03, -1.95415991e-03,\n",
       "        -1.22957983e-02, -1.01692740e+00, -1.47182951e-04,\n",
       "        -1.84698902e-02, -9.34763844e-03,  1.29211095e-01,\n",
       "        -4.23083179e-01, -3.71985956e-02,  1.16677047e-02,\n",
       "        -3.86160688e-02,  3.15648243e-04, -9.19622908e-02,\n",
       "         2.47036510e-01,  1.54847989e-02,  1.09323971e+00,\n",
       "        -1.04544944e-02,  1.51133177e-01,  7.45402425e-01,\n",
       "         5.59801829e-01, -2.75241397e-02, -9.73535411e-01,\n",
       "        -6.50505528e-03, -5.86414308e-01, -3.43936316e-03,\n",
       "        -3.03943183e-03, -1.55946067e-02, -3.52995694e-03,\n",
       "        -7.47603115e-02, -3.26577887e-01, -3.46953610e-01,\n",
       "        -4.28878698e-03, -1.12685437e-01, -5.04751405e-02,\n",
       "        -3.65145333e-03, -3.15280385e-01, -1.73270522e-01,\n",
       "        -7.64662814e-02, -1.18493244e-01, -3.39097125e-03,\n",
       "        -4.76086692e-03, -2.82990767e-04, -1.57597246e-01,\n",
       "         2.48444921e-03, -1.92454720e-01]])"
      ]
     },
     "execution_count": 44,
     "metadata": {},
     "output_type": "execute_result"
    }
   ],
   "source": [
    "#fitting the values\n",
    "logistic.fit(train_x,train_y)\n",
    "logistic.coef_"
   ]
  },
  {
   "cell_type": "code",
   "execution_count": 45,
   "id": "5420261d",
   "metadata": {},
   "outputs": [
    {
     "data": {
      "text/plain": [
       "array([-1.11096282])"
      ]
     },
     "execution_count": 45,
     "metadata": {},
     "output_type": "execute_result"
    }
   ],
   "source": [
    "logistic.intercept_"
   ]
  },
  {
   "cell_type": "code",
   "execution_count": 46,
   "id": "e92f64d5",
   "metadata": {},
   "outputs": [
    {
     "name": "stdout",
     "output_type": "stream",
     "text": [
      "[0 0 0 ... 0 0 0]\n"
     ]
    }
   ],
   "source": [
    "#prediction from test data\n",
    "prediction=logistic.predict(test_x)\n",
    "print(prediction)"
   ]
  },
  {
   "cell_type": "code",
   "execution_count": 47,
   "id": "a26b43cc",
   "metadata": {},
   "outputs": [
    {
     "name": "stdout",
     "output_type": "stream",
     "text": [
      "[[6836  500]\n",
      " [ 947 1311]]\n"
     ]
    }
   ],
   "source": [
    "#confusion matrix\n",
    "confusion_matrix=confusion_matrix(test_y,prediction)\n",
    "print(confusion_matrix)"
   ]
  },
  {
   "cell_type": "code",
   "execution_count": 48,
   "id": "f7a7d29b",
   "metadata": {},
   "outputs": [
    {
     "name": "stdout",
     "output_type": "stream",
     "text": [
      "0.8491765686887638\n"
     ]
    }
   ],
   "source": [
    "#calculating the accuracy\n",
    "accuracy_score=accuracy_score(test_y,prediction)\n",
    "print(accuracy_score)"
   ]
  },
  {
   "cell_type": "code",
   "execution_count": 49,
   "id": "b9078ac6",
   "metadata": {},
   "outputs": [
    {
     "name": "stdout",
     "output_type": "stream",
     "text": [
      "Misclassified samples: 1447\n"
     ]
    }
   ],
   "source": [
    "#printing the misclassified values from prediction\n",
    "print('Misclassified samples: %d' %(test_y !=prediction).sum())"
   ]
  },
  {
   "cell_type": "code",
   "execution_count": 50,
   "id": "599be15d",
   "metadata": {},
   "outputs": [],
   "source": [
    "#******Logistic regression - removing insignificant variables"
   ]
  },
  {
   "cell_type": "code",
   "execution_count": 51,
   "id": "0870ef7a",
   "metadata": {},
   "outputs": [
    {
     "name": "stdout",
     "output_type": "stream",
     "text": [
      "0        0\n",
      "1        0\n",
      "2        1\n",
      "3        0\n",
      "4        0\n",
      "        ..\n",
      "31973    0\n",
      "31974    0\n",
      "31975    0\n",
      "31976    0\n",
      "31977    0\n",
      "Name: SalStat, Length: 31978, dtype: int64\n"
     ]
    }
   ],
   "source": [
    "#reindexing the salary status names to 0,1\n",
    "data4=data.copy()\n",
    "data4['SalStat']=data4['SalStat'].map({' less than or equal to 50,000':0,' greater than 50,000':1})\n",
    "print(data4['SalStat'])"
   ]
  },
  {
   "cell_type": "code",
   "execution_count": 52,
   "id": "7bc33c12",
   "metadata": {},
   "outputs": [
    {
     "name": "stdout",
     "output_type": "stream",
     "text": [
      "       age         EdType        maritalstatus        occupation  \\\n",
      "0       45        HS-grad             Divorced      Adm-clerical   \n",
      "1       24        HS-grad        Never-married      Armed-Forces   \n",
      "2       44   Some-college   Married-civ-spouse    Prof-specialty   \n",
      "3       27            9th        Never-married      Craft-repair   \n",
      "4       20   Some-college        Never-married             Sales   \n",
      "...    ...            ...                  ...               ...   \n",
      "31973   34        HS-grad        Never-married   Farming-fishing   \n",
      "31974   34   Some-college        Never-married   Protective-serv   \n",
      "31975   23   Some-college   Married-civ-spouse      Adm-clerical   \n",
      "31976   42   Some-college   Married-civ-spouse      Adm-clerical   \n",
      "31977   29      Bachelors        Never-married    Prof-specialty   \n",
      "\n",
      "          relationship  capitalgain  capitalloss  hoursperweek  SalStat  \n",
      "0        Not-in-family            0            0            28        0  \n",
      "1            Own-child            0            0            40        0  \n",
      "2              Husband            0            0            40        1  \n",
      "3       Other-relative            0            0            40        0  \n",
      "4        Not-in-family            0            0            35        0  \n",
      "...                ...          ...          ...           ...      ...  \n",
      "31973    Not-in-family          594            0            60        0  \n",
      "31974    Not-in-family            0            0            40        0  \n",
      "31975          Husband            0            0            40        0  \n",
      "31976             Wife            0            0            40        0  \n",
      "31977    Not-in-family            0            0            40        0  \n",
      "\n",
      "[31978 rows x 9 columns]\n"
     ]
    }
   ],
   "source": [
    "cols=['gender','nativecountry','race','JobType']\n",
    "new_data=data4.drop(cols,axis=1)\n",
    "print(new_data)"
   ]
  },
  {
   "cell_type": "code",
   "execution_count": 53,
   "id": "a31ef21a",
   "metadata": {},
   "outputs": [],
   "source": [
    "new_data=pd.get_dummies(new_data,drop_first=True)"
   ]
  },
  {
   "cell_type": "code",
   "execution_count": 54,
   "id": "425dddd4",
   "metadata": {},
   "outputs": [
    {
     "name": "stdout",
     "output_type": "stream",
     "text": [
      "['age', 'capitalgain', 'capitalloss', 'hoursperweek', 'SalStat', 'EdType_ 11th', 'EdType_ 12th', 'EdType_ 1st-4th', 'EdType_ 5th-6th', 'EdType_ 7th-8th', 'EdType_ 9th', 'EdType_ Assoc-acdm', 'EdType_ Assoc-voc', 'EdType_ Bachelors', 'EdType_ Doctorate', 'EdType_ HS-grad', 'EdType_ Masters', 'EdType_ Preschool', 'EdType_ Prof-school', 'EdType_ Some-college', 'maritalstatus_ Married-AF-spouse', 'maritalstatus_ Married-civ-spouse', 'maritalstatus_ Married-spouse-absent', 'maritalstatus_ Never-married', 'maritalstatus_ Separated', 'maritalstatus_ Widowed', 'occupation_ Armed-Forces', 'occupation_ Craft-repair', 'occupation_ Exec-managerial', 'occupation_ Farming-fishing', 'occupation_ Handlers-cleaners', 'occupation_ Machine-op-inspct', 'occupation_ Other-service', 'occupation_ Priv-house-serv', 'occupation_ Prof-specialty', 'occupation_ Protective-serv', 'occupation_ Sales', 'occupation_ Tech-support', 'occupation_ Transport-moving', 'relationship_ Not-in-family', 'relationship_ Other-relative', 'relationship_ Own-child', 'relationship_ Unmarried', 'relationship_ Wife']\n"
     ]
    }
   ],
   "source": [
    "columns_list=list(new_data.columns)\n",
    "print(columns_list)"
   ]
  },
  {
   "cell_type": "code",
   "execution_count": 55,
   "id": "f8b2964e",
   "metadata": {},
   "outputs": [
    {
     "name": "stdout",
     "output_type": "stream",
     "text": [
      "['relationship_ Other-relative', 'relationship_ Own-child', 'occupation_ Priv-house-serv', 'EdType_ 12th', 'hoursperweek', 'EdType_ Bachelors', 'capitalgain', 'EdType_ Prof-school', 'maritalstatus_ Married-AF-spouse', 'maritalstatus_ Married-civ-spouse', 'occupation_ Farming-fishing', 'occupation_ Prof-specialty', 'occupation_ Tech-support', 'EdType_ 11th', 'EdType_ HS-grad', 'EdType_ Masters', 'EdType_ Preschool', 'EdType_ Doctorate', 'relationship_ Unmarried', 'maritalstatus_ Never-married', 'capitalloss', 'age', 'EdType_ 1st-4th', 'occupation_ Sales', 'EdType_ Some-college', 'relationship_ Wife', 'EdType_ Assoc-voc', 'occupation_ Other-service', 'EdType_ Assoc-acdm', 'occupation_ Transport-moving', 'occupation_ Handlers-cleaners', 'occupation_ Exec-managerial', 'occupation_ Protective-serv', 'maritalstatus_ Separated', 'occupation_ Machine-op-inspct', 'occupation_ Craft-repair', 'maritalstatus_ Married-spouse-absent', 'maritalstatus_ Widowed', 'occupation_ Armed-Forces', 'EdType_ 7th-8th', 'EdType_ 5th-6th', 'relationship_ Not-in-family', 'EdType_ 9th']\n"
     ]
    }
   ],
   "source": [
    "features=list(set(columns_list)-set(['SalStat']))\n",
    "print(features)"
   ]
  },
  {
   "cell_type": "code",
   "execution_count": 56,
   "id": "e2127cb5",
   "metadata": {},
   "outputs": [
    {
     "name": "stdout",
     "output_type": "stream",
     "text": [
      "[0 0 1 ... 0 0 0]\n"
     ]
    }
   ],
   "source": [
    "y=new_data['SalStat'].values\n",
    "print(y)"
   ]
  },
  {
   "cell_type": "code",
   "execution_count": 57,
   "id": "3efc0cd0",
   "metadata": {},
   "outputs": [
    {
     "name": "stdout",
     "output_type": "stream",
     "text": [
      "[[0 0 0 ... 0 1 0]\n",
      " [0 1 0 ... 0 0 0]\n",
      " [0 0 0 ... 0 0 0]\n",
      " ...\n",
      " [0 0 0 ... 0 0 0]\n",
      " [0 0 0 ... 0 0 0]\n",
      " [0 0 0 ... 0 1 0]]\n"
     ]
    }
   ],
   "source": [
    "x=new_data[features].values\n",
    "print(x)"
   ]
  },
  {
   "cell_type": "code",
   "execution_count": 58,
   "id": "bed32d77",
   "metadata": {},
   "outputs": [],
   "source": [
    "train_x,test_x,train_y,test_y=train_test_split(x,y,test_size=0.3,random_state=0)"
   ]
  },
  {
   "cell_type": "code",
   "execution_count": 59,
   "id": "64f8dda9",
   "metadata": {},
   "outputs": [],
   "source": [
    "logistic=LogisticRegression()"
   ]
  },
  {
   "cell_type": "code",
   "execution_count": 60,
   "id": "9522528c",
   "metadata": {},
   "outputs": [
    {
     "name": "stderr",
     "output_type": "stream",
     "text": [
      "C:\\Users\\User\\anaconda3\\lib\\site-packages\\sklearn\\linear_model\\_logistic.py:814: ConvergenceWarning: lbfgs failed to converge (status=1):\n",
      "STOP: TOTAL NO. of ITERATIONS REACHED LIMIT.\n",
      "\n",
      "Increase the number of iterations (max_iter) or scale the data as shown in:\n",
      "    https://scikit-learn.org/stable/modules/preprocessing.html\n",
      "Please also refer to the documentation for alternative solver options:\n",
      "    https://scikit-learn.org/stable/modules/linear_model.html#logistic-regression\n",
      "  n_iter_i = _check_optimize_result(\n"
     ]
    },
    {
     "data": {
      "text/plain": [
       "array([[-2.75305525e-01, -1.14339715e+00, -4.42566067e-02,\n",
       "        -1.21328904e-01,  9.66725951e-03,  6.06677134e-01,\n",
       "         3.17171666e-04,  2.73652091e-01,  1.40373094e-02,\n",
       "         9.84294628e-01, -2.65472240e-01,  7.48763551e-01,\n",
       "         1.13985436e-01, -3.85088572e-01, -1.07454398e+00,\n",
       "         5.87216560e-01, -2.57369875e-02,  2.69271871e-01,\n",
       "        -6.39640511e-01, -1.57845467e+00,  6.58371759e-04,\n",
       "        -7.17919130e-03, -6.93921272e-02,  1.36942070e-01,\n",
       "        -4.36853090e-01,  7.71480590e-02, -9.87653260e-02,\n",
       "        -7.47949390e-01, -2.57206267e-02, -1.90834433e-01,\n",
       "        -3.65723273e-01,  8.88527759e-01,  4.55779769e-02,\n",
       "        -1.84091997e-01, -4.20090493e-01, -3.56840289e-01,\n",
       "        -6.99689393e-02, -1.19553864e-01, -2.64411449e-03,\n",
       "        -2.91222469e-01, -1.45755331e-01, -4.72191246e-01,\n",
       "        -1.97747761e-01]])"
      ]
     },
     "execution_count": 60,
     "metadata": {},
     "output_type": "execute_result"
    }
   ],
   "source": [
    "#fitting the values\n",
    "logistic.fit(train_x,train_y)\n",
    "logistic.coef_"
   ]
  },
  {
   "cell_type": "code",
   "execution_count": 61,
   "id": "967767a9",
   "metadata": {},
   "outputs": [
    {
     "data": {
      "text/plain": [
       "array([-1.44007569])"
      ]
     },
     "execution_count": 61,
     "metadata": {},
     "output_type": "execute_result"
    }
   ],
   "source": [
    "logistic.intercept_"
   ]
  },
  {
   "cell_type": "code",
   "execution_count": 62,
   "id": "d15368cf",
   "metadata": {},
   "outputs": [
    {
     "name": "stdout",
     "output_type": "stream",
     "text": [
      "[0 0 0 ... 0 0 0]\n"
     ]
    }
   ],
   "source": [
    "prediction=logistic.predict(test_x)\n",
    "print(prediction)"
   ]
  },
  {
   "cell_type": "code",
   "execution_count": 63,
   "id": "747bc95b",
   "metadata": {},
   "outputs": [
    {
     "name": "stdout",
     "output_type": "stream",
     "text": [
      "[[6823  513]\n",
      " [ 968 1290]]\n"
     ]
    }
   ],
   "source": [
    "from sklearn.metrics import accuracy_score,confusion_matrix\n",
    "#confusion matrix\n",
    "confus_matrix=confusion_matrix(test_y,prediction)\n",
    "print(confus_matrix)"
   ]
  },
  {
   "cell_type": "code",
   "execution_count": 64,
   "id": "2e39f240",
   "metadata": {},
   "outputs": [
    {
     "name": "stdout",
     "output_type": "stream",
     "text": [
      "0.8456326870961017\n"
     ]
    }
   ],
   "source": [
    "#calculating the accuracy\n",
    "accuracy_score=accuracy_score(test_y,prediction)\n",
    "print(accuracy_score)\n"
   ]
  },
  {
   "cell_type": "code",
   "execution_count": 65,
   "id": "cf5579c0",
   "metadata": {},
   "outputs": [],
   "source": [
    "#KNN\n",
    "from sklearn.neighbors import KNeighborsClassifier"
   ]
  },
  {
   "cell_type": "code",
   "execution_count": 66,
   "id": "a2695ce0",
   "metadata": {},
   "outputs": [
    {
     "name": "stdout",
     "output_type": "stream",
     "text": [
      "0        0\n",
      "1        0\n",
      "2        1\n",
      "3        0\n",
      "4        0\n",
      "        ..\n",
      "31973    0\n",
      "31974    0\n",
      "31975    0\n",
      "31976    0\n",
      "31977    0\n",
      "Name: SalStat, Length: 31978, dtype: int64\n",
      "       age  capitalgain  capitalloss  hoursperweek  SalStat  \\\n",
      "0       45            0            0            28        0   \n",
      "1       24            0            0            40        0   \n",
      "2       44            0            0            40        1   \n",
      "3       27            0            0            40        0   \n",
      "4       20            0            0            35        0   \n",
      "...    ...          ...          ...           ...      ...   \n",
      "31973   34          594            0            60        0   \n",
      "31974   34            0            0            40        0   \n",
      "31975   23            0            0            40        0   \n",
      "31976   42            0            0            40        0   \n",
      "31977   29            0            0            40        0   \n",
      "\n",
      "       JobType_ Federal-gov  JobType_ Local-gov  JobType_ Never-worked  \\\n",
      "0                         0                   0                      0   \n",
      "1                         1                   0                      0   \n",
      "2                         0                   0                      0   \n",
      "3                         0                   0                      0   \n",
      "4                         0                   0                      0   \n",
      "...                     ...                 ...                    ...   \n",
      "31973                     0                   1                      0   \n",
      "31974                     0                   1                      0   \n",
      "31975                     0                   0                      0   \n",
      "31976                     0                   1                      0   \n",
      "31977                     0                   0                      0   \n",
      "\n",
      "       JobType_ Private  JobType_ Self-emp-inc  ...  nativecountry_ Portugal  \\\n",
      "0                     1                      0  ...                        0   \n",
      "1                     0                      0  ...                        0   \n",
      "2                     1                      0  ...                        0   \n",
      "3                     1                      0  ...                        0   \n",
      "4                     1                      0  ...                        0   \n",
      "...                 ...                    ...  ...                      ...   \n",
      "31973                 0                      0  ...                        0   \n",
      "31974                 0                      0  ...                        0   \n",
      "31975                 1                      0  ...                        0   \n",
      "31976                 0                      0  ...                        0   \n",
      "31977                 1                      0  ...                        0   \n",
      "\n",
      "       nativecountry_ Puerto-Rico  nativecountry_ Scotland  \\\n",
      "0                               0                        0   \n",
      "1                               0                        0   \n",
      "2                               0                        0   \n",
      "3                               0                        0   \n",
      "4                               0                        0   \n",
      "...                           ...                      ...   \n",
      "31973                           0                        0   \n",
      "31974                           0                        0   \n",
      "31975                           0                        0   \n",
      "31976                           0                        0   \n",
      "31977                           0                        0   \n",
      "\n",
      "       nativecountry_ South  nativecountry_ Taiwan  nativecountry_ Thailand  \\\n",
      "0                         0                      0                        0   \n",
      "1                         0                      0                        0   \n",
      "2                         0                      0                        0   \n",
      "3                         0                      0                        0   \n",
      "4                         0                      0                        0   \n",
      "...                     ...                    ...                      ...   \n",
      "31973                     0                      0                        0   \n",
      "31974                     0                      0                        0   \n",
      "31975                     0                      0                        0   \n",
      "31976                     0                      0                        0   \n",
      "31977                     0                      0                        0   \n",
      "\n",
      "       nativecountry_ Trinadad&Tobago  nativecountry_ United-States  \\\n",
      "0                                   0                             1   \n",
      "1                                   0                             1   \n",
      "2                                   0                             1   \n",
      "3                                   0                             0   \n",
      "4                                   0                             1   \n",
      "...                               ...                           ...   \n",
      "31973                               0                             1   \n",
      "31974                               0                             1   \n",
      "31975                               0                             1   \n",
      "31976                               0                             1   \n",
      "31977                               0                             1   \n",
      "\n",
      "       nativecountry_ Vietnam  nativecountry_ Yugoslavia  \n",
      "0                           0                          0  \n",
      "1                           0                          0  \n",
      "2                           0                          0  \n",
      "3                           0                          0  \n",
      "4                           0                          0  \n",
      "...                       ...                        ...  \n",
      "31973                       0                          0  \n",
      "31974                       0                          0  \n",
      "31975                       0                          0  \n",
      "31976                       0                          0  \n",
      "31977                       0                          0  \n",
      "\n",
      "[31978 rows x 98 columns]\n",
      "['age', 'capitalgain', 'capitalloss', 'hoursperweek', 'SalStat', 'JobType_ Federal-gov', 'JobType_ Local-gov', 'JobType_ Never-worked', 'JobType_ Private', 'JobType_ Self-emp-inc', 'JobType_ Self-emp-not-inc', 'JobType_ State-gov', 'JobType_ Without-pay', 'EdType_ 11th', 'EdType_ 12th', 'EdType_ 1st-4th', 'EdType_ 5th-6th', 'EdType_ 7th-8th', 'EdType_ 9th', 'EdType_ Assoc-acdm', 'EdType_ Assoc-voc', 'EdType_ Bachelors', 'EdType_ Doctorate', 'EdType_ HS-grad', 'EdType_ Masters', 'EdType_ Preschool', 'EdType_ Prof-school', 'EdType_ Some-college', 'maritalstatus_ Married-AF-spouse', 'maritalstatus_ Married-civ-spouse', 'maritalstatus_ Married-spouse-absent', 'maritalstatus_ Never-married', 'maritalstatus_ Separated', 'maritalstatus_ Widowed', 'occupation_ Adm-clerical', 'occupation_ Armed-Forces', 'occupation_ Craft-repair', 'occupation_ Exec-managerial', 'occupation_ Farming-fishing', 'occupation_ Handlers-cleaners', 'occupation_ Machine-op-inspct', 'occupation_ Other-service', 'occupation_ Priv-house-serv', 'occupation_ Prof-specialty', 'occupation_ Protective-serv', 'occupation_ Sales', 'occupation_ Tech-support', 'occupation_ Transport-moving', 'relationship_ Not-in-family', 'relationship_ Other-relative', 'relationship_ Own-child', 'relationship_ Unmarried', 'relationship_ Wife', 'race_ Asian-Pac-Islander', 'race_ Black', 'race_ Other', 'race_ White', 'gender_ Male', 'nativecountry_ Canada', 'nativecountry_ China', 'nativecountry_ Columbia', 'nativecountry_ Cuba', 'nativecountry_ Dominican-Republic', 'nativecountry_ Ecuador', 'nativecountry_ El-Salvador', 'nativecountry_ England', 'nativecountry_ France', 'nativecountry_ Germany', 'nativecountry_ Greece', 'nativecountry_ Guatemala', 'nativecountry_ Haiti', 'nativecountry_ Holand-Netherlands', 'nativecountry_ Honduras', 'nativecountry_ Hong', 'nativecountry_ Hungary', 'nativecountry_ India', 'nativecountry_ Iran', 'nativecountry_ Ireland', 'nativecountry_ Italy', 'nativecountry_ Jamaica', 'nativecountry_ Japan', 'nativecountry_ Laos', 'nativecountry_ Mexico', 'nativecountry_ Nicaragua', 'nativecountry_ Outlying-US(Guam-USVI-etc)', 'nativecountry_ Peru', 'nativecountry_ Philippines', 'nativecountry_ Poland', 'nativecountry_ Portugal', 'nativecountry_ Puerto-Rico', 'nativecountry_ Scotland', 'nativecountry_ South', 'nativecountry_ Taiwan', 'nativecountry_ Thailand', 'nativecountry_ Trinadad&Tobago', 'nativecountry_ United-States', 'nativecountry_ Vietnam', 'nativecountry_ Yugoslavia']\n",
      "['nativecountry_ Jamaica', 'relationship_ Other-relative', 'nativecountry_ Mexico', 'nativecountry_ Laos', 'nativecountry_ China', 'JobType_ Local-gov', 'nativecountry_ Dominican-Republic', 'JobType_ Without-pay', 'EdType_ 12th', 'occupation_ Priv-house-serv', 'nativecountry_ Portugal', 'EdType_ Bachelors', 'JobType_ Self-emp-inc', 'nativecountry_ Yugoslavia', 'nativecountry_ Ecuador', 'occupation_ Farming-fishing', 'nativecountry_ Germany', 'EdType_ 11th', 'EdType_ Doctorate', 'nativecountry_ Japan', 'maritalstatus_ Never-married', 'nativecountry_ Hong', 'capitalloss', 'age', 'nativecountry_ Hungary', 'nativecountry_ Columbia', 'occupation_ Sales', 'nativecountry_ France', 'nativecountry_ South', 'relationship_ Wife', 'nativecountry_ Greece', 'occupation_ Other-service', 'nativecountry_ Poland', 'race_ Asian-Pac-Islander', 'nativecountry_ Philippines', 'JobType_ Private', 'occupation_ Transport-moving', 'occupation_ Exec-managerial', 'occupation_ Protective-serv', 'nativecountry_ Guatemala', 'occupation_ Machine-op-inspct', 'nativecountry_ Vietnam', 'relationship_ Not-in-family', 'occupation_ Craft-repair', 'JobType_ Federal-gov', 'nativecountry_ Trinadad&Tobago', 'nativecountry_ Holand-Netherlands', 'JobType_ Self-emp-not-inc', 'nativecountry_ United-States', 'EdType_ 7th-8th', 'JobType_ Never-worked', 'nativecountry_ Iran', 'nativecountry_ Cuba', 'occupation_ Adm-clerical', 'relationship_ Own-child', 'nativecountry_ Canada', 'nativecountry_ Nicaragua', 'nativecountry_ India', 'gender_ Male', 'race_ Black', 'nativecountry_ El-Salvador', 'hoursperweek', 'nativecountry_ Puerto-Rico', 'capitalgain', 'race_ Other', 'EdType_ Prof-school', 'maritalstatus_ Married-AF-spouse', 'maritalstatus_ Married-civ-spouse', 'nativecountry_ Peru', 'occupation_ Tech-support', 'occupation_ Prof-specialty', 'EdType_ Masters', 'EdType_ Preschool', 'EdType_ HS-grad', 'nativecountry_ Thailand', 'relationship_ Unmarried', 'nativecountry_ Italy', 'nativecountry_ Scotland', 'nativecountry_ Haiti', 'nativecountry_ Honduras', 'EdType_ 1st-4th', 'EdType_ Some-college', 'race_ White', 'nativecountry_ Taiwan', 'JobType_ State-gov', 'EdType_ Assoc-voc', 'EdType_ Assoc-acdm', 'occupation_ Handlers-cleaners', 'maritalstatus_ Separated', 'maritalstatus_ Married-spouse-absent', 'maritalstatus_ Widowed', 'occupation_ Armed-Forces', 'nativecountry_ Outlying-US(Guam-USVI-etc)', 'nativecountry_ Ireland', 'EdType_ 5th-6th', 'nativecountry_ England', 'EdType_ 9th']\n",
      "[0 0 1 ... 0 0 0]\n",
      "[[0 0 0 ... 0 0 0]\n",
      " [0 0 0 ... 0 0 0]\n",
      " [0 0 0 ... 0 0 0]\n",
      " ...\n",
      " [0 0 0 ... 0 0 0]\n",
      " [0 0 0 ... 0 0 0]\n",
      " [0 0 0 ... 0 0 0]]\n"
     ]
    }
   ],
   "source": [
    "import pandas as pd\n",
    "import numpy as np\n",
    "import matplotlib.pyplot as plt\n",
    "from sklearn.model_selection import train_test_split\n",
    "data_income=pd.read_csv('income.csv')\n",
    "data=data_income.copy()\n",
    "data4=data.copy()\n",
    "data4['SalStat']=data4['SalStat'].map({' less than or equal to 50,000':0,' greater than 50,000':1})\n",
    "print(data4['SalStat'])\n",
    "new_data=pd.get_dummies(data4, drop_first=True)\n",
    "print(new_data)\n",
    "columns_list=list(new_data.columns)\n",
    "print(columns_list)\n",
    "features=list(set(columns_list)-set(['SalStat']))\n",
    "print(features)\n",
    "y=new_data['SalStat'].values\n",
    "print(y)\n",
    "X=new_data[features].values\n",
    "print(X)\n",
    "\n",
    "X_train,X_test,y_train,y_test=train_test_split(X,y,test_size=0.3,random_state=0)"
   ]
  },
  {
   "cell_type": "code",
   "execution_count": 67,
   "id": "80971760",
   "metadata": {},
   "outputs": [],
   "source": [
    "KNN_classifier=KNeighborsClassifier(n_neighbors=5)"
   ]
  },
  {
   "cell_type": "code",
   "execution_count": 68,
   "id": "9ae1b179",
   "metadata": {},
   "outputs": [
    {
     "data": {
      "text/plain": [
       "KNeighborsClassifier()"
      ]
     },
     "execution_count": 68,
     "metadata": {},
     "output_type": "execute_result"
    }
   ],
   "source": [
    "KNN_classifier.fit(X_train,y_train)"
   ]
  },
  {
   "cell_type": "code",
   "execution_count": 69,
   "id": "9e1f69d3",
   "metadata": {},
   "outputs": [
    {
     "name": "stderr",
     "output_type": "stream",
     "text": [
      "C:\\Users\\User\\anaconda3\\lib\\site-packages\\sklearn\\neighbors\\_classification.py:228: FutureWarning: Unlike other reduction functions (e.g. `skew`, `kurtosis`), the default behavior of `mode` typically preserves the axis it acts along. In SciPy 1.11.0, this behavior will change: the default value of `keepdims` will become False, the `axis` over which the statistic is taken will be eliminated, and the value None will no longer be accepted. Set `keepdims` to True or False to avoid this warning.\n",
      "  mode, _ = stats.mode(_y[neigh_ind, k], axis=1)\n"
     ]
    },
    {
     "name": "stdout",
     "output_type": "stream",
     "text": [
      "[0 0 0 ... 0 0 0]\n"
     ]
    }
   ],
   "source": [
    "predicton=KNN_classifier.predict(X_test)\n",
    "print(predicton)\n"
   ]
  },
  {
   "cell_type": "code",
   "execution_count": 70,
   "id": "d1df0e9e",
   "metadata": {},
   "outputs": [
    {
     "name": "stdout",
     "output_type": "stream",
     "text": [
      "\t predicted values\n",
      "original values \n",
      " [[6683  653]\n",
      " [ 878 1380]]\n"
     ]
    }
   ],
   "source": [
    "from sklearn.metrics import accuracy_score,confusion_matrix\n",
    "confusion_matrix=confusion_matrix(y_test,predicton)\n",
    "print(\"\\t\",\"predicted values\")\n",
    "print(\"original values\",\"\\n\",confusion_matrix)\n"
   ]
  },
  {
   "cell_type": "code",
   "execution_count": 71,
   "id": "be788724",
   "metadata": {},
   "outputs": [
    {
     "name": "stdout",
     "output_type": "stream",
     "text": [
      "0.8404210965186575\n"
     ]
    }
   ],
   "source": [
    "accuracy_score=accuracy_score(y_test,predicton)\n",
    "print(accuracy_score)"
   ]
  },
  {
   "cell_type": "code",
   "execution_count": 72,
   "id": "dc559eac",
   "metadata": {},
   "outputs": [
    {
     "name": "stderr",
     "output_type": "stream",
     "text": [
      "C:\\Users\\User\\anaconda3\\lib\\site-packages\\sklearn\\neighbors\\_classification.py:228: FutureWarning: Unlike other reduction functions (e.g. `skew`, `kurtosis`), the default behavior of `mode` typically preserves the axis it acts along. In SciPy 1.11.0, this behavior will change: the default value of `keepdims` will become False, the `axis` over which the statistic is taken will be eliminated, and the value None will no longer be accepted. Set `keepdims` to True or False to avoid this warning.\n",
      "  mode, _ = stats.mode(_y[neigh_ind, k], axis=1)\n",
      "C:\\Users\\User\\anaconda3\\lib\\site-packages\\sklearn\\neighbors\\_classification.py:228: FutureWarning: Unlike other reduction functions (e.g. `skew`, `kurtosis`), the default behavior of `mode` typically preserves the axis it acts along. In SciPy 1.11.0, this behavior will change: the default value of `keepdims` will become False, the `axis` over which the statistic is taken will be eliminated, and the value None will no longer be accepted. Set `keepdims` to True or False to avoid this warning.\n",
      "  mode, _ = stats.mode(_y[neigh_ind, k], axis=1)\n",
      "C:\\Users\\User\\anaconda3\\lib\\site-packages\\sklearn\\neighbors\\_classification.py:228: FutureWarning: Unlike other reduction functions (e.g. `skew`, `kurtosis`), the default behavior of `mode` typically preserves the axis it acts along. In SciPy 1.11.0, this behavior will change: the default value of `keepdims` will become False, the `axis` over which the statistic is taken will be eliminated, and the value None will no longer be accepted. Set `keepdims` to True or False to avoid this warning.\n",
      "  mode, _ = stats.mode(_y[neigh_ind, k], axis=1)\n",
      "C:\\Users\\User\\anaconda3\\lib\\site-packages\\sklearn\\neighbors\\_classification.py:228: FutureWarning: Unlike other reduction functions (e.g. `skew`, `kurtosis`), the default behavior of `mode` typically preserves the axis it acts along. In SciPy 1.11.0, this behavior will change: the default value of `keepdims` will become False, the `axis` over which the statistic is taken will be eliminated, and the value None will no longer be accepted. Set `keepdims` to True or False to avoid this warning.\n",
      "  mode, _ = stats.mode(_y[neigh_ind, k], axis=1)\n",
      "C:\\Users\\User\\anaconda3\\lib\\site-packages\\sklearn\\neighbors\\_classification.py:228: FutureWarning: Unlike other reduction functions (e.g. `skew`, `kurtosis`), the default behavior of `mode` typically preserves the axis it acts along. In SciPy 1.11.0, this behavior will change: the default value of `keepdims` will become False, the `axis` over which the statistic is taken will be eliminated, and the value None will no longer be accepted. Set `keepdims` to True or False to avoid this warning.\n",
      "  mode, _ = stats.mode(_y[neigh_ind, k], axis=1)\n",
      "C:\\Users\\User\\anaconda3\\lib\\site-packages\\sklearn\\neighbors\\_classification.py:228: FutureWarning: Unlike other reduction functions (e.g. `skew`, `kurtosis`), the default behavior of `mode` typically preserves the axis it acts along. In SciPy 1.11.0, this behavior will change: the default value of `keepdims` will become False, the `axis` over which the statistic is taken will be eliminated, and the value None will no longer be accepted. Set `keepdims` to True or False to avoid this warning.\n",
      "  mode, _ = stats.mode(_y[neigh_ind, k], axis=1)\n",
      "C:\\Users\\User\\anaconda3\\lib\\site-packages\\sklearn\\neighbors\\_classification.py:228: FutureWarning: Unlike other reduction functions (e.g. `skew`, `kurtosis`), the default behavior of `mode` typically preserves the axis it acts along. In SciPy 1.11.0, this behavior will change: the default value of `keepdims` will become False, the `axis` over which the statistic is taken will be eliminated, and the value None will no longer be accepted. Set `keepdims` to True or False to avoid this warning.\n",
      "  mode, _ = stats.mode(_y[neigh_ind, k], axis=1)\n",
      "C:\\Users\\User\\anaconda3\\lib\\site-packages\\sklearn\\neighbors\\_classification.py:228: FutureWarning: Unlike other reduction functions (e.g. `skew`, `kurtosis`), the default behavior of `mode` typically preserves the axis it acts along. In SciPy 1.11.0, this behavior will change: the default value of `keepdims` will become False, the `axis` over which the statistic is taken will be eliminated, and the value None will no longer be accepted. Set `keepdims` to True or False to avoid this warning.\n",
      "  mode, _ = stats.mode(_y[neigh_ind, k], axis=1)\n",
      "C:\\Users\\User\\anaconda3\\lib\\site-packages\\sklearn\\neighbors\\_classification.py:228: FutureWarning: Unlike other reduction functions (e.g. `skew`, `kurtosis`), the default behavior of `mode` typically preserves the axis it acts along. In SciPy 1.11.0, this behavior will change: the default value of `keepdims` will become False, the `axis` over which the statistic is taken will be eliminated, and the value None will no longer be accepted. Set `keepdims` to True or False to avoid this warning.\n",
      "  mode, _ = stats.mode(_y[neigh_ind, k], axis=1)\n",
      "C:\\Users\\User\\anaconda3\\lib\\site-packages\\sklearn\\neighbors\\_classification.py:228: FutureWarning: Unlike other reduction functions (e.g. `skew`, `kurtosis`), the default behavior of `mode` typically preserves the axis it acts along. In SciPy 1.11.0, this behavior will change: the default value of `keepdims` will become False, the `axis` over which the statistic is taken will be eliminated, and the value None will no longer be accepted. Set `keepdims` to True or False to avoid this warning.\n",
      "  mode, _ = stats.mode(_y[neigh_ind, k], axis=1)\n",
      "C:\\Users\\User\\anaconda3\\lib\\site-packages\\sklearn\\neighbors\\_classification.py:228: FutureWarning: Unlike other reduction functions (e.g. `skew`, `kurtosis`), the default behavior of `mode` typically preserves the axis it acts along. In SciPy 1.11.0, this behavior will change: the default value of `keepdims` will become False, the `axis` over which the statistic is taken will be eliminated, and the value None will no longer be accepted. Set `keepdims` to True or False to avoid this warning.\n",
      "  mode, _ = stats.mode(_y[neigh_ind, k], axis=1)\n",
      "C:\\Users\\User\\anaconda3\\lib\\site-packages\\sklearn\\neighbors\\_classification.py:228: FutureWarning: Unlike other reduction functions (e.g. `skew`, `kurtosis`), the default behavior of `mode` typically preserves the axis it acts along. In SciPy 1.11.0, this behavior will change: the default value of `keepdims` will become False, the `axis` over which the statistic is taken will be eliminated, and the value None will no longer be accepted. Set `keepdims` to True or False to avoid this warning.\n",
      "  mode, _ = stats.mode(_y[neigh_ind, k], axis=1)\n",
      "C:\\Users\\User\\anaconda3\\lib\\site-packages\\sklearn\\neighbors\\_classification.py:228: FutureWarning: Unlike other reduction functions (e.g. `skew`, `kurtosis`), the default behavior of `mode` typically preserves the axis it acts along. In SciPy 1.11.0, this behavior will change: the default value of `keepdims` will become False, the `axis` over which the statistic is taken will be eliminated, and the value None will no longer be accepted. Set `keepdims` to True or False to avoid this warning.\n",
      "  mode, _ = stats.mode(_y[neigh_ind, k], axis=1)\n",
      "C:\\Users\\User\\anaconda3\\lib\\site-packages\\sklearn\\neighbors\\_classification.py:228: FutureWarning: Unlike other reduction functions (e.g. `skew`, `kurtosis`), the default behavior of `mode` typically preserves the axis it acts along. In SciPy 1.11.0, this behavior will change: the default value of `keepdims` will become False, the `axis` over which the statistic is taken will be eliminated, and the value None will no longer be accepted. Set `keepdims` to True or False to avoid this warning.\n",
      "  mode, _ = stats.mode(_y[neigh_ind, k], axis=1)\n",
      "C:\\Users\\User\\anaconda3\\lib\\site-packages\\sklearn\\neighbors\\_classification.py:228: FutureWarning: Unlike other reduction functions (e.g. `skew`, `kurtosis`), the default behavior of `mode` typically preserves the axis it acts along. In SciPy 1.11.0, this behavior will change: the default value of `keepdims` will become False, the `axis` over which the statistic is taken will be eliminated, and the value None will no longer be accepted. Set `keepdims` to True or False to avoid this warning.\n",
      "  mode, _ = stats.mode(_y[neigh_ind, k], axis=1)\n",
      "C:\\Users\\User\\anaconda3\\lib\\site-packages\\sklearn\\neighbors\\_classification.py:228: FutureWarning: Unlike other reduction functions (e.g. `skew`, `kurtosis`), the default behavior of `mode` typically preserves the axis it acts along. In SciPy 1.11.0, this behavior will change: the default value of `keepdims` will become False, the `axis` over which the statistic is taken will be eliminated, and the value None will no longer be accepted. Set `keepdims` to True or False to avoid this warning.\n",
      "  mode, _ = stats.mode(_y[neigh_ind, k], axis=1)\n",
      "C:\\Users\\User\\anaconda3\\lib\\site-packages\\sklearn\\neighbors\\_classification.py:228: FutureWarning: Unlike other reduction functions (e.g. `skew`, `kurtosis`), the default behavior of `mode` typically preserves the axis it acts along. In SciPy 1.11.0, this behavior will change: the default value of `keepdims` will become False, the `axis` over which the statistic is taken will be eliminated, and the value None will no longer be accepted. Set `keepdims` to True or False to avoid this warning.\n",
      "  mode, _ = stats.mode(_y[neigh_ind, k], axis=1)\n",
      "C:\\Users\\User\\anaconda3\\lib\\site-packages\\sklearn\\neighbors\\_classification.py:228: FutureWarning: Unlike other reduction functions (e.g. `skew`, `kurtosis`), the default behavior of `mode` typically preserves the axis it acts along. In SciPy 1.11.0, this behavior will change: the default value of `keepdims` will become False, the `axis` over which the statistic is taken will be eliminated, and the value None will no longer be accepted. Set `keepdims` to True or False to avoid this warning.\n",
      "  mode, _ = stats.mode(_y[neigh_ind, k], axis=1)\n",
      "C:\\Users\\User\\anaconda3\\lib\\site-packages\\sklearn\\neighbors\\_classification.py:228: FutureWarning: Unlike other reduction functions (e.g. `skew`, `kurtosis`), the default behavior of `mode` typically preserves the axis it acts along. In SciPy 1.11.0, this behavior will change: the default value of `keepdims` will become False, the `axis` over which the statistic is taken will be eliminated, and the value None will no longer be accepted. Set `keepdims` to True or False to avoid this warning.\n",
      "  mode, _ = stats.mode(_y[neigh_ind, k], axis=1)\n"
     ]
    }
   ],
   "source": [
    "Misclassified_sample=[]\n",
    "for i in range(1,20):\n",
    "    knn=KNeighborsClassifier(n_neighbors=i)\n",
    "    knn.fit(X_train,y_train)\n",
    "    pred_i=knn.predict(X_test)\n",
    "    Misclassified_sample.append((y_test !=pred_i).sum())\n",
    "    "
   ]
  },
  {
   "cell_type": "code",
   "execution_count": 73,
   "id": "1e0ed971",
   "metadata": {},
   "outputs": [
    {
     "name": "stdout",
     "output_type": "stream",
     "text": [
      "[1771, 1493, 1610, 1507, 1531, 1456, 1490, 1446, 1489, 1435, 1470, 1432, 1448, 1418, 1450, 1400, 1415, 1395, 1424]\n"
     ]
    }
   ],
   "source": [
    "print(Misclassified_sample)"
   ]
  },
  {
   "cell_type": "code",
   "execution_count": null,
   "id": "7cb9f2f2",
   "metadata": {},
   "outputs": [],
   "source": []
  }
 ],
 "metadata": {
  "kernelspec": {
   "display_name": "Python 3 (ipykernel)",
   "language": "python",
   "name": "python3"
  },
  "language_info": {
   "codemirror_mode": {
    "name": "ipython",
    "version": 3
   },
   "file_extension": ".py",
   "mimetype": "text/x-python",
   "name": "python",
   "nbconvert_exporter": "python",
   "pygments_lexer": "ipython3",
   "version": "3.9.13"
  }
 },
 "nbformat": 4,
 "nbformat_minor": 5
}
